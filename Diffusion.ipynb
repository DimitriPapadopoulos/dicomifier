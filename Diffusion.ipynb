{
 "cells": [
  {
   "cell_type": "markdown",
   "metadata": {
    "slideshow": {
     "slide_type": "slide"
    }
   },
   "source": [
    "# Diffusion gradients in Bruker data sets\n",
    "## or: How I learned to stop worying and love coordinate systems\n",
    "\n",
    "**WARNING** This is a work in progress. The informations should be completed with\n",
    "* Check that the RPF to RPH conversion is valid in other data sets\n",
    "* Data sets from Paravision 5\n",
    "* Data from the noodles phantom\n",
    "\n",
    "The official documentation from Bruker (Operating Manual of Paravision 6.0.1 and *ParaVision Parameters*) are lacking details to understand which coordinate system (gradient, subject, magnet or image) is used when manipulating vectors and matrices. This is especially difficult in DWI acquisitions, where the direction of the diffusion gradient is of the utmost importance in DEC (directionally-encoded color) images and tractography. The documentation is even self-contradicting for some fields: `ACQ_grad_matrix` is described as the transformation from gradient coordinates to subject coordinates in the Operating Manual (section 3.2.6.10.1) and from the gradient coordinates to patient-indenpendent coordinates in *ParaVision Parameters* (page D-2-36).\n",
    "\n",
    "Based two diffusion data sets provided by Mathieu Santin and Chrystelle Po, we try to understand how to convert between different coordinate systems and how to express the directions of the diffusion gradient in these systems. In addition to core Python modules, [Dicomifier](https://github.com/lamyj/dicomifier/) and [NumPy](http://www.numpy.org/) are required.\n",
    "\n",
    "The two data sets are respectively:\n",
    "* A 3D acquisition with readout gradient on the head-tail axis, phase gradient on the left-right axis, and slice gradient on the ventro-dorsal axis.\n",
    "* Seven 2D acquisitions with different orientations:\n",
    "  * Coronal slices: readout on left-right and ventro-dorsal axes\n",
    "  * Sagittal slices: readout on rostro-caudal and ventro-dorsal axes\n",
    "  * Horizontal slices: readout on rostro-caudal and left-right axes\n",
    "  * Arbitrarilly-oriented slices\n",
    "\n",
    "The following anatomical orientations are used in this document:\n",
    "* *L*, *R*: left and right of the subject\n",
    "* *D*, *V*: dorsal (anterior or back) and ventral (posterior or front) sides of the subject\n",
    "* *F*, *H*: foot (inferior or caudal) and head (superior or rostral) extremities of the subject\n",
    "\n",
    "We start by defining the orientations as above, and loading the main meta-data files (`acqp`, `method`, and `visu_pars`) of each data set:"
   ]
  },
  {
   "cell_type": "code",
   "execution_count": 1,
   "metadata": {},
   "outputs": [],
   "source": [
    "import glob\n",
    "import itertools\n",
    "import os\n",
    "import subprocess\n",
    "import sys\n",
    "\n",
    "import dicomifier\n",
    "import numpy\n",
    "\n",
    "# Orientations of the gradients (readout, phase, slice) relative to the subject\n",
    "gradient_orientations = {\n",
    "    \"saimiri\": {\n",
    "        7: [\"F-H\", \"L-R\", \"V-D\"],\n",
    "    },\n",
    "    \"rat\": {\n",
    "        # Coronal slices\n",
    "        6: [\"L-R\", \"V-D\", \"F-H\"],\n",
    "        8: [\"V-D\", \"L-R\", \"F-H\"],\n",
    "        # Sagittal slices\n",
    "        9: [\"F-H\", \"V-D\", \"L-R\"],\n",
    "        10: [\"V-D\", \"F-H\", \"L-R\"],\n",
    "        # Horizontal slices\n",
    "        11: [\"F-H\", \"L-R\", \"V-D\"],\n",
    "        12: [\"L-R\", \"F-H\", \"V-D\"],\n",
    "        # Arbitrary\n",
    "        13: [\"arbitrary\", \"arbitrary\", \"arbitrary\"],\n",
    "    }\n",
    "}\n",
    "\n",
    "meta_data = {}\n",
    "meta_data_files = [\"acqp\", \"method\", \"visu_pars\"]\n",
    "for name, series in gradient_orientations.items():\n",
    "    for series_number in series:\n",
    "        for file_ in meta_data_files:\n",
    "            data_set = dicomifier.bruker.Dataset()\n",
    "            data_set.load(\n",
    "                os.path.join(name, \"bruker\", str(series_number), file_))\n",
    "            \n",
    "            meta_data.setdefault(name, {}).setdefault(series_number, {})\n",
    "            meta_data[name][series_number][file_] = data_set"
   ]
  },
  {
   "cell_type": "markdown",
   "metadata": {},
   "source": [
    "We then define a helper function to fetch n-dimensional numeric arrays from Bruker data sets."
   ]
  },
  {
   "cell_type": "code",
   "execution_count": 2,
   "metadata": {},
   "outputs": [],
   "source": [
    "def get_array(field, shape=None):\n",
    "    return numpy.reshape(\n",
    "        [field.get_float(x) for x in range(numpy.cumprod(field.shape)[-1])], \n",
    "        field.shape)"
   ]
  },
  {
   "cell_type": "markdown",
   "metadata": {},
   "source": [
    "## Coordinate systems\n",
    "\n",
    "According to the Operating Manual (section 3.2.6.10.1), the gradient coordinate system has a (*readout*, *phase*, *slice*) basis, and the transformation matrix from this coordinate system to the subject coordinate system (i.e. the coordinates of the gradient basis in the subject basis) is stored in `ACQ_grad_matrix`. The equation in the aforementioned section uses a $v\\cdot M$ formalism, which points to the use of row-vectors, and ParaVision Parameters (pages D-2-36 and D-2-65) mentions matrices stored in the row-major order. The subject coordinate system is described by Bruker (Operating Manual, sections 1.3.6.1, 1.3.6.2, and 3.2.6.10.1) to be (*L* &rarr; *R*, *V* &rarr; *D*, *F* -> *H*); note that this is a [left-handed](https://en.wikipedia.org/wiki/Right-hand_rule) coordinate system. We compare the expected orientations with the ones stored in `ACQ_grad_matrix` using the dot product of the normalized vectors."
   ]
  },
  {
   "cell_type": "code",
   "execution_count": 3,
   "metadata": {
    "scrolled": true
   },
   "outputs": [
    {
     "name": "stdout",
     "output_type": "stream",
     "text": [
      "rat/6: [0.99930667480477031, 0.99930667480477031, 1.0]\n",
      "rat/8: [0.99930667480477031, 0.99930667480477031, 1.0]\n",
      "rat/9: [1.0, 1.0, 1.0]\n",
      "rat/10: [1.0, 1.0, 1.0]\n",
      "rat/11: [1.0, 1.0, 1.0]\n",
      "rat/12: [1.0, 1.0, 1.0]\n",
      "saimiri/7: [1.0, 1.0, 1.0]\n"
     ]
    }
   ],
   "source": [
    "RDH = {\n",
    "    \"L-R\": [1,0,0],\n",
    "    \"V-D\": [0,1,0],\n",
    "    \"F-H\": [0,0,1],\n",
    "    \"arbitrary\": [0,0,0],\n",
    "}\n",
    "\n",
    "ACQ_grad_matrix = {}\n",
    "for name, series in meta_data.items():\n",
    "    for series_number, series_meta_data in series.items():\n",
    "        ACQ_grad_matrix.setdefault(name, {})[series_number] = get_array(\n",
    "            series_meta_data[\"acqp\"].get_field(\"ACQ_grad_matrix\"))\n",
    "\n",
    "def compare_orientations(o1, o2):\n",
    "    return numpy.dot(o1/numpy.linalg.norm(o1), o2/numpy.linalg.norm(o2))\n",
    "\n",
    "for name, series in meta_data.items():\n",
    "    for series_number, series_meta_data in series.items():\n",
    "        if \"arbitrary\" in gradient_orientations[name][series_number]:\n",
    "            continue\n",
    "        \n",
    "        dot_products = [\n",
    "            compare_orientations(\n",
    "                ACQ_grad_matrix[name][series_number][0][i], \n",
    "                RDH[gradient_orientations[name][series_number][i]])\n",
    "            for i in range(3)\n",
    "        ]\n",
    "        print(\"{}/{}: {}\".format(name, series_number, dot_products))"
   ]
  },
  {
   "cell_type": "markdown",
   "metadata": {},
   "source": [
    "With the exception of a small deviation in the coronal slices of the rat data set -- possibly due to a slice plane not perfectly aligned with the magnet axes -- all acquisitions match their definition. Note that for a same slice plane, switching the readout and phase gradient directions will yield left-hand frames or right hand coordinate systems."
   ]
  },
  {
   "cell_type": "code",
   "execution_count": 4,
   "metadata": {},
   "outputs": [
    {
     "name": "stdout",
     "output_type": "stream",
     "text": [
      "rat/6: 1.00000000794\n",
      "rat/8: -1.00000000794\n"
     ]
    }
   ],
   "source": [
    "data_set, series = \"rat\", 6\n",
    "print(\"{}/{}: {}\".format(\n",
    "    data_set, series, numpy.linalg.det(ACQ_grad_matrix[data_set][series][0])))\n",
    "data_set, series = \"rat\", 8\n",
    "print(\"{}/{}: {}\".format(\n",
    "    data_set, series, numpy.linalg.det(ACQ_grad_matrix[data_set][series][0])))"
   ]
  },
  {
   "cell_type": "markdown",
   "metadata": {},
   "source": [
    "The position matrices, converting from the subject RDH coordinate system to the magnet (or world) coordinate system, are described in ParaVision Parameters (page D-2-33)."
   ]
  },
  {
   "cell_type": "code",
   "execution_count": 5,
   "metadata": {},
   "outputs": [],
   "source": [
    "position_matrix = {\n",
    "    \"Head_Supine\": numpy.asarray([[-1, 0, 0], [0,  1, 0], [0, 0, -1]]),\n",
    "    \"Head_Prone\":  numpy.asarray([[ 1, 0, 0], [0, -1, 0], [0, 0, -1]]),\n",
    "    # ...\n",
    "    \"Feet_Supine\": numpy.asarray([[ 1, 0, 0], [0,  1, 0], [0, 0,  1]]),\n",
    "    \"Feet_Prone\":  numpy.asarray([[-1, 0, 0], [0, -1, 0], [0, 0,  1]]),\n",
    "    # ...\n",
    "}\n",
    "ACQ_patient_pos = {}\n",
    "for name, series in meta_data.items():\n",
    "    for series_number, series_meta_data in series.items():\n",
    "        matrix = position_matrix[\n",
    "            series_meta_data[\"acqp\"].get_field(\"ACQ_patient_pos\").get_string(0)]\n",
    "        ACQ_patient_pos.setdefault(name, {})[series_number] = matrix"
   ]
  },
  {
   "cell_type": "markdown",
   "metadata": {},
   "source": [
    "Since `Feet_Supine` corresponds to an identity position matrix in the RDH subject coordinates, magnet axes are (when facing the tunnel):\n",
    "* Left &rarr; Right\n",
    "* Up &rarr; Down\n",
    "* Back &rarr; Front\n",
    "\n",
    "The last coordinate system is the image one where the axes are those of the voxel block. The transformation matrix from the subject coordinate system to the image coordinate system is stored in `VisuCoreOrientation`. It transforms from the *LDH* system in Paravision 6 and from the *RVH* system in Paravision 5 (Paravision Parameters, pages D-2-64 and D-2-65), using a *column vector* formalism."
   ]
  },
  {
   "cell_type": "code",
   "execution_count": 6,
   "metadata": {
    "code_folding": [
     12,
     19
    ]
   },
   "outputs": [
    {
     "name": "stdout",
     "output_type": "stream",
     "text": [
      "rat/6: in image coordinates,\n",
      "   R->L: [ 0.99930668  0.0372313   0.        ]\n",
      "   V->D: [-0.0372313   0.99930668  0.        ]\n",
      "   F->H: [ 0.  0.  1.]\n",
      "rat/8: in image coordinates,\n",
      "   R->L: [ 0.99930668  0.0372313   0.        ]\n",
      "   V->D: [-0.0372313   0.99930668  0.        ]\n",
      "   F->H: [ 0.  0.  1.]\n",
      "rat/9: in image coordinates,\n",
      "   R->L: [ 0.  0. -1.]\n",
      "   V->D: [ 1.  0.  0.]\n",
      "   F->H: [ 0. -1.  0.]\n",
      "rat/10: in image coordinates,\n",
      "   R->L: [ 0.  0. -1.]\n",
      "   V->D: [ 1.  0.  0.]\n",
      "   F->H: [ 0. -1.  0.]\n",
      "rat/11: in image coordinates,\n",
      "   R->L: [ 1.  0.  0.]\n",
      "   V->D: [ 0.  0.  1.]\n",
      "   F->H: [ 0. -1.  0.]\n",
      "rat/12: in image coordinates,\n",
      "   R->L: [ 1.  0.  0.]\n",
      "   V->D: [ 0.  0.  1.]\n",
      "   F->H: [ 0. -1.  0.]\n",
      "rat/13: in image coordinates,\n",
      "   R->L: [ 0.99358684  0.10770127  0.03443334]\n",
      "   V->D: [-0.1052677   0.99224889 -0.06603676]\n",
      "   F->H: [-0.04127869  0.06198854  0.9972229 ]\n",
      "saimiri/7: in image coordinates,\n",
      "   R->L: [ 1.  0.  0.]\n",
      "   V->D: [ 0.  0.  1.]\n",
      "   F->H: [ 0. -1.  0.]\n"
     ]
    }
   ],
   "source": [
    "is_pv6 = {\n",
    "    name: series.values()[0][\"visu_pars\"].get_field(\"VisuCreatorVersion\").get_string(0) > \"6\"\n",
    "    for name, series in meta_data.items()\n",
    "}\n",
    "\n",
    "VisuCoreOrientation_coordinates = {\n",
    "    name: (\n",
    "        [\"R->L\", \"V->D\", \"F->H\"] if is_pv6[name] else [\"L->R\", \"D->V\", \"F->H\"])\n",
    "    for name in meta_data\n",
    "}\n",
    "\n",
    "VisuCoreOrientation = {}\n",
    "for name, series in meta_data.items():\n",
    "    for series_number, series_meta_data in series.items():\n",
    "        matrix = get_array(\n",
    "                series_meta_data[\"visu_pars\"].get_field(\"VisuCoreOrientation\")\n",
    "            ).reshape(-1, 3, 3)\n",
    "        VisuCoreOrientation.setdefault(name, {})[series_number] = matrix\n",
    "\n",
    "for name, series in meta_data.items():\n",
    "    for series_number in series:\n",
    "        print(\n",
    "            \"{}/{}: in image coordinates,\\n\"\n",
    "            \"   {}: {}\\n\"\n",
    "            \"   {}: {}\\n\"\n",
    "            \"   {}: {}\".format(\n",
    "                name, series_number, \n",
    "                *itertools.chain(*zip(\n",
    "                    VisuCoreOrientation_coordinates[name],\n",
    "                    VisuCoreOrientation[name][series_number][0].T))))"
   ]
  },
  {
   "cell_type": "markdown",
   "metadata": {},
   "source": [
    "These axes can be checked by displaying the converted NIfTI image in FSLeyes or ITK-SNAP (the saimiri was positioned as head-first prone but but registered in Paravision as head-first supine, some axes might be flipped). On the rat data set, note that the contents of `VisuCoreOrientation` are the same for a given slice: the *x* and *y* image axes do not always correspond to respectively the readout and phase gradients. This behavior is governed by `RECO_transposition`."
   ]
  },
  {
   "cell_type": "markdown",
   "metadata": {},
   "source": [
    "## Diffusion gradient\n",
    "\n",
    "The directions of the diffusion gradient are stored in all four coordinates systems (gradient, subject, magnet and image) in the various files:\n",
    "* `PVM_DwDir`, `PVM_DwGradVec` and `PVM_DwBMat` use the gradient coordinate system (unless `PVM_DwDirectScale` is set to `Yes`, cf. Operating Manual, section 1.9.1.2)\n",
    "* `PVM_DwBMatPat` and `VisuAcqDiffusionBMatrix` use the subject coordinate system\n",
    "* `PVM_DwBMatMag` uses the magnet coordinate system\n",
    "* `PVM_DwBMatImag` uses the image coordinate system\n",
    "\n",
    "With the exception of `PVM_DwDir` and `PVM_DwGradVec`, which store the directions as 3D vectors, all other fields store [b-matrices ](http://doi.org/10.1006/jmrb.1994.1037). In this formalism, the diffusion gradient is colinear to the eigenvector associated with the eigenvalue having the largest absolute value (**warning** need to find a reference for this). The b-values of all volumes can be found in `PVM_DwEffBval`."
   ]
  },
  {
   "cell_type": "code",
   "execution_count": 7,
   "metadata": {},
   "outputs": [],
   "source": [
    "PVM_DwEffBval = {}\n",
    "for name, series in meta_data.items():\n",
    "    for series_number, series_meta_data in series.items():\n",
    "        PVM_DwEffBval.setdefault(name, {})[series_number] = get_array(\n",
    "            series_meta_data[\"method\"].get_field(\"PVM_DwEffBval\"))"
   ]
  },
  {
   "cell_type": "markdown",
   "metadata": {},
   "source": [
    "### Gradient coordinate system\n",
    "\n",
    "The contents of `PVM_DwDir` will serve as the ground truth, and will be transformed in each other coordinate system. Due to the use of eigenanalysis on the b-matrices, we will only obtain eigenvectors colinear to the diffusion gradient: the similarity check thus needs to use the *absolute value* of the dot product."
   ]
  },
  {
   "cell_type": "code",
   "execution_count": 8,
   "metadata": {},
   "outputs": [],
   "source": [
    "def check_colinearity(o1, o2):\n",
    "    return numpy.abs(compare_orientations(o1, o2))"
   ]
  },
  {
   "cell_type": "markdown",
   "metadata": {},
   "source": [
    "We also need to skip the b-matrices corresponding to acquisitions without a diffusion gradient, as those volumes are not present in `PVM_DwDir`."
   ]
  },
  {
   "cell_type": "code",
   "execution_count": 9,
   "metadata": {
    "code_folding": [
     11,
     16
    ]
   },
   "outputs": [
    {
     "name": "stdout",
     "output_type": "stream",
     "text": [
      "Minimal colinearity between PVM_DwDir and PVM_DwGradVec\n",
      "  rat/6: 1.0 (3.52019892386e-06 degrees)\n",
      "  rat/8: 1.0 (3.52019892386e-06 degrees)\n",
      "  rat/9: 1.0 (3.52019892386e-06 degrees)\n",
      "  rat/10: 1.0 (3.52019892386e-06 degrees)\n",
      "  rat/11: 1.0 (3.52019892386e-06 degrees)\n",
      "  rat/12: 1.0 (3.52019892386e-06 degrees)\n",
      "  rat/13: 1.0 (3.52019892386e-06 degrees)\n",
      "  saimiri/7: 1.0 (5.05099300793e-06 degrees)\n",
      "Minimal colinearity between PVM_DwDir and PVM_DwBMat\n",
      "  rat/6: 0.995793159616 (5.25736362048 degrees)\n",
      "  rat/8: 0.995793159616 (5.25736362048 degrees)\n",
      "  rat/9: 0.995793159616 (5.25736362048 degrees)\n",
      "  rat/10: 0.995793159616 (5.25736362048 degrees)\n",
      "  rat/11: 0.995793159616 (5.25736362048 degrees)\n",
      "  rat/12: 0.995793159616 (5.25736362048 degrees)\n",
      "  rat/13: 0.995793159616 (5.25736362048 degrees)\n",
      "  saimiri/7: 0.998381072353 (3.26069335517 degrees)\n"
     ]
    }
   ],
   "source": [
    "PVM_DwDir = {}\n",
    "PVM_DwGradVec = {}\n",
    "PVM_DwBMat = {}\n",
    "for name, series in meta_data.items():\n",
    "    for series_number, series_meta_data in series.items():\n",
    "        PVM_DwDir.setdefault(name, {})[series_number] = get_array(\n",
    "            series_meta_data[\"method\"].get_field(\"PVM_DwDir\"))\n",
    "        PVM_DwGradVec.setdefault(name, {})[series_number] = get_array(\n",
    "            series_meta_data[\"method\"].get_field(\"PVM_DwGradVec\"))\n",
    "        PVM_DwBMat.setdefault(name, {})[series_number] = get_array(\n",
    "            series_meta_data[\"method\"].get_field(\"PVM_DwBMat\"))\n",
    "\n",
    "b_value_threshold = 100\n",
    "\n",
    "def get_orientation_and_b_value(b_matrix):\n",
    "    eigenvalues, eigenvectors = numpy.linalg.eigh(b_matrix)\n",
    "    eigenvalues = numpy.abs(eigenvalues)\n",
    "    return eigenvectors[:,numpy.argmax(eigenvalues)], eigenvalues.max()\n",
    "\n",
    "def get_diffusion_weighted_data(b_matrices, b_value_threshold):\n",
    "    result = []\n",
    "    for b_matrix in b_matrices:\n",
    "        orientation, b_value = get_orientation_and_b_value(b_matrix)\n",
    "        if b_value > b_value_threshold:\n",
    "            result.append((orientation, b_value))\n",
    "    return result\n",
    "\n",
    "def report_colinearity(PVM_DwDir, b_matrices, transformer, b_value_threshold):\n",
    "    for name, series in PVM_DwDir.items():\n",
    "        for series_number, dw_dirs in series.items():\n",
    "            b_matrix_data = get_diffusion_weighted_data(\n",
    "                b_matrices[name][series_number], b_value_threshold)\n",
    "            if len(b_matrix_data) != len(dw_dirs):\n",
    "                raise Exception(\"Size mismatch\")\n",
    "            transform = transformer(name, series_number)\n",
    "            colinearity = ([\n",
    "                check_colinearity(numpy.dot(dw_dir, transform), orientation)\n",
    "                for dw_dir, (orientation, _) in zip(dw_dirs, b_matrix_data)])\n",
    "            min_colinearity = min(colinearity)\n",
    "            max_angle = numpy.arccos(min_colinearity)\n",
    "            print(\n",
    "                \"  {}/{}: {} ({} degrees)\".format(\n",
    "                    name, series_number, \n",
    "                    min_colinearity, numpy.degrees(max_angle)))\n",
    "\n",
    "print(\"Minimal colinearity between PVM_DwDir and PVM_DwGradVec\")\n",
    "for name, series in PVM_DwDir.items():\n",
    "    for series_number, dw_dirs in series.items():\n",
    "        dw_grad_vecs = [\n",
    "            x\n",
    "            for x in PVM_DwGradVec[name][series_number]\n",
    "            if numpy.linalg.norm(x)!=0]\n",
    "        colinearity = ([\n",
    "            check_colinearity(dw_dir, dw_grad_vec)\n",
    "            for dw_dir, dw_grad_vec in zip(dw_dirs, dw_grad_vecs)])\n",
    "        min_colinearity = min(colinearity)\n",
    "        max_angle = numpy.arccos(min_colinearity)\n",
    "        print(\n",
    "            \"  {}/{}: {} ({} degrees)\".format(\n",
    "                name, series_number, \n",
    "                min_colinearity, numpy.degrees(max_angle)))\n",
    "print(\"Minimal colinearity between PVM_DwDir and PVM_DwBMat\")\n",
    "report_colinearity(\n",
    "    PVM_DwDir, PVM_DwBMat, lambda x,y: numpy.identity(3), b_value_threshold)"
   ]
  },
  {
   "cell_type": "markdown",
   "metadata": {},
   "source": [
    "### Subject coordinate system\n",
    "\n",
    "The contents of `PVM_DwBMatPat` and `VisuAcqDiffusionBMatrix` are the same."
   ]
  },
  {
   "cell_type": "code",
   "execution_count": 10,
   "metadata": {},
   "outputs": [
    {
     "name": "stdout",
     "output_type": "stream",
     "text": [
      "Maximum difference between PVM_DwBMatPat and VisuAcqDiffusionBMatrix:\n",
      "  rat/6: 0.0\n",
      "  rat/8: 0.0\n",
      "  rat/9: 0.0\n",
      "  rat/10: 0.0\n",
      "  rat/11: 0.0\n",
      "  rat/12: 0.0\n",
      "  rat/13: 0.0\n",
      "  saimiri/7: 0.0\n"
     ]
    }
   ],
   "source": [
    "PVM_DwBMatPat = {}\n",
    "VisuAcqDiffusionBMatrix = {}\n",
    "for name, series in meta_data.items():\n",
    "    for series_number, series_meta_data in series.items():\n",
    "        PVM_DwBMatPat.setdefault(name, {})[series_number] = get_array(\n",
    "            series_meta_data[\"method\"].get_field(\"PVM_DwBMatPat\"))\n",
    "        VisuAcqDiffusionBMatrix.setdefault(name, {})[series_number] = get_array(\n",
    "                series_meta_data[\"visu_pars\"].get_field(\"VisuAcqDiffusionBMatrix\")\n",
    "            ).reshape(-1, 3, 3)\n",
    "print(\"Maximum difference between PVM_DwBMatPat and VisuAcqDiffusionBMatrix:\")\n",
    "for name, series in meta_data.items():\n",
    "    for series_number in series:\n",
    "        difference = numpy.abs(\n",
    "            PVM_DwBMatPat[name][series_number]\n",
    "            -VisuAcqDiffusionBMatrix[name][series_number])\n",
    "        print(\"  {}/{}: {}\".format(name, series_number, difference.max()))"
   ]
  },
  {
   "cell_type": "markdown",
   "metadata": {},
   "source": [
    "Although one would expect the gradients direction to use the same subject coordinate system as the one of `ACQ_grad_matrix` (i.e. RDH), `PVM_DwBMatPat` and `VisuAcqDiffusionBMatrix` need an extra transform (flipping the F-H axis)."
   ]
  },
  {
   "cell_type": "code",
   "execution_count": 11,
   "metadata": {},
   "outputs": [
    {
     "name": "stdout",
     "output_type": "stream",
     "text": [
      "Minimal colinearity between transformed PVM_DwDir and PVM_DwBMatPat\n",
      "  rat/6: 0.995793158996 (5.25736400799 degrees)\n",
      "  rat/8: 0.995793159801 (5.25736350469 degrees)\n",
      "  rat/9: 0.995793159616 (5.25736362048 degrees)\n",
      "  rat/10: 0.995793159616 (5.25736362048 degrees)\n",
      "  rat/11: 0.995793159616 (5.25736362048 degrees)\n",
      "  rat/12: 0.995793159616 (5.25736362048 degrees)\n",
      "  rat/13: 0.995793159102 (5.25736394139 degrees)\n",
      "  saimiri/7: 0.998381072353 (3.26069335517 degrees)\n"
     ]
    }
   ],
   "source": [
    "flip_f_h_axis = numpy.asarray([\n",
    "    [1, 0,  0],\n",
    "    [0, 1,  0],\n",
    "    [0, 0, -1]])\n",
    "\n",
    "print(\"Minimal colinearity between transformed PVM_DwDir and PVM_DwBMatPat\")\n",
    "report_colinearity(\n",
    "    PVM_DwDir, PVM_DwBMatPat, \n",
    "    lambda x,y: ACQ_grad_matrix[x][y][0].dot(flip_f_h_axis), b_value_threshold)"
   ]
  },
  {
   "cell_type": "markdown",
   "metadata": {
    "heading_collapsed": true
   },
   "source": [
    "### Magnet coordinate system\n",
    "\n",
    "The directions defined in `PVM_DwDir` can be converted to the magnet coordinate system described above by combining the transforms stored in `ACQ_grad_matrix` and `ACQ_patient_pos`. "
   ]
  },
  {
   "cell_type": "code",
   "execution_count": 12,
   "metadata": {
    "hidden": true
   },
   "outputs": [
    {
     "name": "stdout",
     "output_type": "stream",
     "text": [
      "Minimal colinearity between transformed PVM_DwDir and PVM_DwBMatMag\n",
      "  rat/6: 0.995793158996 (5.25736400799 degrees)\n",
      "  rat/8: 0.995793159801 (5.25736350469 degrees)\n",
      "  rat/9: 0.995793159616 (5.25736362048 degrees)\n",
      "  rat/10: 0.995793159616 (5.25736362048 degrees)\n",
      "  rat/11: 0.995793159616 (5.25736362048 degrees)\n",
      "  rat/12: 0.995793159616 (5.25736362048 degrees)\n",
      "  rat/13: 0.995793159102 (5.25736394139 degrees)\n",
      "  saimiri/7: 0.998381072353 (3.26069335517 degrees)\n"
     ]
    }
   ],
   "source": [
    "PVM_DwBMatMag = {}\n",
    "for name, series in meta_data.items():\n",
    "    for series_number, series_meta_data in series.items():\n",
    "        PVM_DwBMatMag.setdefault(name, {})[series_number] = get_array(\n",
    "            series_meta_data[\"method\"].get_field(\"PVM_DwBMatMag\"))\n",
    "\n",
    "print(\"Minimal colinearity between transformed PVM_DwDir and PVM_DwBMatMag\")\n",
    "report_colinearity(\n",
    "    PVM_DwDir, PVM_DwBMatMag, \n",
    "    lambda x,y: ACQ_grad_matrix[x][y][0].dot(ACQ_patient_pos[x][y]), \n",
    "    b_value_threshold)"
   ]
  },
  {
   "cell_type": "markdown",
   "metadata": {},
   "source": [
    "### Image coordinate system\n",
    "\n",
    "The directions defined in `PVM_DwDir` can be converted to the image coordinate system described above by combining `ACQ_grad_matrix`, the F-H axis flip and `VisuCoreOrientation`. "
   ]
  },
  {
   "cell_type": "code",
   "execution_count": 13,
   "metadata": {},
   "outputs": [
    {
     "name": "stdout",
     "output_type": "stream",
     "text": [
      "Minimal colinearity between transformed PVM_DwDir and PVM_DwBMatImag\n",
      "  rat/6: 0.99579315961 (5.25736362369 degrees)\n",
      "  rat/8: 0.99579315961 (5.25736362369 degrees)\n",
      "  rat/9: 0.995793159616 (5.25736362048 degrees)\n",
      "  rat/10: 0.995793159616 (5.25736362048 degrees)\n",
      "  rat/11: 0.995793159616 (5.25736362048 degrees)\n",
      "  rat/12: 0.995793159616 (5.25736362048 degrees)\n",
      "  rat/13: 0.995793159538 (5.25736366913 degrees)\n",
      "  saimiri/7: 0.998381072353 (3.26069335517 degrees)\n"
     ]
    }
   ],
   "source": [
    "PVM_DwBMatImag = {}\n",
    "for name, series in meta_data.items():\n",
    "    for series_number, series_meta_data in series.items():\n",
    "        PVM_DwBMatImag.setdefault(name, {})[series_number] = get_array(\n",
    "            series_meta_data[\"method\"].get_field(\"PVM_DwBMatImag\"))\n",
    "\n",
    "print(\"Minimal colinearity between transformed PVM_DwDir and PVM_DwBMatImag\")\n",
    "report_colinearity(\n",
    "    PVM_DwDir, PVM_DwBMatImag, \n",
    "    # WARNING: VisuCoreOrientation has a column-vector formalism\n",
    "    lambda x,y: ACQ_grad_matrix[x][y][0].dot(flip_f_h_axis).dot(VisuCoreOrientation[x][y][0].T),\n",
    "    b_value_threshold)"
   ]
  },
  {
   "cell_type": "markdown",
   "metadata": {},
   "source": [
    "## Interoperability with other standards and diffusion softwares"
   ]
  },
  {
   "cell_type": "markdown",
   "metadata": {},
   "source": [
    "### DICOM"
   ]
  },
  {
   "cell_type": "markdown",
   "metadata": {},
   "source": [
    "In [DICOM](http://dicom.nema.org/medical/dicom/current/output/chtml/part03/sect_C.8.13.5.9.html), the direction of the diffusion gradient and the b-matrix are explicitely specified in the [LDH](http://dicom.nema.org/medical/dicom/current/output/chtml/part03/sect_C.7.6.2.html#sect_C.7.6.2.1.1) subject coordinate system. "
   ]
  },
  {
   "cell_type": "code",
   "execution_count": 14,
   "metadata": {},
   "outputs": [],
   "source": [
    "rdh_to_ldh = numpy.asarray([\n",
    "    [-1, 0, 0],\n",
    "    [ 0, 1, 0],\n",
    "    [ 0, 0, 1]])\n",
    "dicom_meta_data = {}\n",
    "for name, series in PVM_DwGradVec.items():\n",
    "    for series_number, dw_grad_vecs in series.items():\n",
    "        orientations = [\n",
    "            x.dot(ACQ_grad_matrix[name][series_number][0]).dot(rdh_to_ldh)\n",
    "            for x in dw_grad_vecs]\n",
    "        b_values = PVM_DwEffBval[name][series_number]\n",
    "        dicom_meta_data.setdefault(name, {})[series_number] = {\n",
    "            \"MRDiffusionSequence\": [{\n",
    "                \"DiffusionBValue\": [b_value],\n",
    "                \"DiffusionGradientDirectionSequence\": [{\n",
    "                    \"DiffusionGradientOrientation\": orientation.tolist()\n",
    "                }]\n",
    "            } for orientation, b_value in zip(orientations, b_values)]\n",
    "        }"
   ]
  },
  {
   "cell_type": "markdown",
   "metadata": {},
   "source": [
    "### FSL: `bvecs` and `bvals` files\n",
    "\n",
    "FSL uses a [radiological voxel convention](https://fsl.fmrib.ox.ac.uk/fsl/fslwiki/FDT/FAQ#What_conventions_do_the_bvecs_use.3F). This rather convoluted expression means that the directions are in the image coordinate system if the image-to-subject transformation has a negative determinant. If this determinant is positive, then an additional flip on the x axis must be applied to match the \"old Analyze convention\". As an extra indication that the directions are stored in the image coordinate system and not in the subject coordinate system, both the [Eddy FAQ](https://fsl.fmrib.ox.ac.uk/fsl/fslwiki/eddy/Faq#Will_eddy_rotate_my_bvecs_for_me.3F) and a [practical in the FSL course](http://fsl.fmrib.ox.ac.uk/fslcourse/lectures/practicals/fdt1/index.html) mention rotation of the direction when performing motion correction, i.e. being image dependent. MRtrix also [applies this process](https://github.com/MRtrix3/mrtrix3/blob/master/src/dwi/gradient.cpp#L127-L133) the other way around to convert from the `bvecs` file to their gradient scheme.\n",
    "\n",
    "We first compute the NIfTI orientation matrix from `VisuCoreOrientation`."
   ]
  },
  {
   "cell_type": "code",
   "execution_count": 15,
   "metadata": {},
   "outputs": [],
   "source": [
    "ldh_to_rvh = numpy.asarray([\n",
    "    [-1,  0, 0],\n",
    "    [ 0, -1, 0],\n",
    "    [ 0,  0, 1]])\n",
    "\n",
    "nifti_orientation_matrix = {}\n",
    "for name, series in VisuCoreOrientation.items():\n",
    "    for series_number, orientation in series.items():\n",
    "        nifti_orientation_matrix.setdefault(name, {})[series_number] = numpy.dot(\n",
    "            ldh_to_rvh, orientation[0])"
   ]
  },
  {
   "cell_type": "markdown",
   "metadata": {},
   "source": [
    "The `bvecs` and `bvals` are then given by:"
   ]
  },
  {
   "cell_type": "code",
   "execution_count": 16,
   "metadata": {},
   "outputs": [],
   "source": [
    "bvecs = {}\n",
    "bvals = {}\n",
    "for name, series in dicom_meta_data.items():\n",
    "    for series_number, series_dicom_meta_data in series.items():\n",
    "        bvecs.setdefault(name, {})[series_number] = []\n",
    "        bvals.setdefault(name, {})[series_number] = []\n",
    "        series_nifti_orientation_matrix = nifti_orientation_matrix[name][series_number]\n",
    "        for entry in series_dicom_meta_data[\"MRDiffusionSequence\"]:\n",
    "            # In LDH\n",
    "            orientation = entry[\"DiffusionGradientDirectionSequence\"][0][\"DiffusionGradientOrientation\"]\n",
    "            # To RVH\n",
    "            orientation = numpy.dot(ldh_to_rvh, orientation)\n",
    "            # To image\n",
    "            orientation = numpy.dot(series_nifti_orientation_matrix, orientation)\n",
    "            # To Analyze convention, if required\n",
    "            if numpy.linalg.det(series_nifti_orientation_matrix) > 0:\n",
    "                orientation[0] *= -1\n",
    "    \n",
    "            bvecs[name][series_number].append(orientation)\n",
    "            bvals[name][series_number].append(entry[\"DiffusionBValue\"][0])\n",
    "        bvecs[name][series_number] = numpy.transpose(bvecs[name][series_number])\n",
    "\n",
    "for name, series in bvecs.items():\n",
    "    for series_number, series_bvecs in series.items():\n",
    "        series_bvals = bvals[name][series_number]\n",
    "        nifti_directory = glob.glob(\n",
    "            os.path.join(name, \"nifti\", \"*\", \"*\", \"{}*\".format(\n",
    "                2**16 * series_number + 1)))[0]\n",
    "        with open(os.path.join(nifti_directory, \"bvecs\"), \"w\") as fd:\n",
    "            numpy.savetxt(fd, numpy.transpose(series_bvecs))\n",
    "        with open(os.path.join(nifti_directory, \"bvals\"), \"w\") as fd:\n",
    "            numpy.savetxt(fd, numpy.reshape(series_bvals, (1, -1)))"
   ]
  },
  {
   "cell_type": "markdown",
   "metadata": {},
   "source": [
    "In order to check the correctness of the `bvecs` and `bvals`, we use FSL's own `dtifit`:\n",
    "\n",
    "```shell\n",
    "bet dwi.nii.gz brain -m\n",
    "dtifit -k dwi.nii.gz -r bvecs -b bvals -o fsl -m brain_mask.nii.gz\n",
    "```"
   ]
  },
  {
   "cell_type": "code",
   "execution_count": 17,
   "metadata": {},
   "outputs": [],
   "source": [
    "for name, series in bvecs.items():\n",
    "    for series_number, series_bvecs in series.items():\n",
    "        nifti_directory = glob.glob(\n",
    "            os.path.join(name, \"nifti\", \"*\", \"*\", \"{}*\".format(\n",
    "                2**16 * series_number + 1)))[0]\n",
    "        dwi = os.path.join(nifti_directory, \"1.nii.gz\")\n",
    "        brain_mask = os.path.join(nifti_directory, \"brain_mask.nii.gz\")\n",
    "        \n",
    "        if (\n",
    "                not os.path.isfile(brain_mask) \n",
    "                or os.stat(brain_mask).st_mtime < os.stat(dwi).st_mtime):\n",
    "            subprocess.check_call(\n",
    "                [\"bet\", \"1.nii.gz\", \"brain\", \"-m\"], cwd=nifti_directory)\n",
    "        \n",
    "        fa = os.path.join(nifti_directory, \"fsl_FA.nii.gz\")\n",
    "        if (\n",
    "                not os.path.isfile(fa) \n",
    "                or os.stat(fa).st_mtime < os.stat(dwi).st_mtime):\n",
    "            subprocess.check_call(\n",
    "                [\n",
    "                    \"dtifit\", \n",
    "                    \"-k\", \"1.nii.gz\", \"-m\", \"brain_mask.nii.gz\",\n",
    "                    \"-r\", \"bvecs\", \"-b\", \"bvals\", \n",
    "                    \"-o\", \"fsl\"],\n",
    "                cwd=nifti_directory)"
   ]
  },
  {
   "cell_type": "markdown",
   "metadata": {},
   "source": [
    "The data can then be visualized with `fsleyes`, displaying the first eigenvector on top of the fractional anisotropy map:\n",
    "```\n",
    "fsleyes --layout grid fsl_FA.nii.gz fsl_V1.nii.gz -ot linevector\n",
    "```\n",
    "\n",
    "**WARNING** the voxel size of the rat data set is too anisotropic (0.209 x 0.180 x 1) for the tensor estimation to have a high angular resolution. See if we can get data with a less anisotropic resolution."
   ]
  },
  {
   "cell_type": "code",
   "execution_count": 18,
   "metadata": {},
   "outputs": [
    {
     "name": "stdout",
     "output_type": "stream",
     "text": [
      "fsleyes --layout grid rat/nifti/R17-06/2_plateforme^14112017/393217_DTI_EPI_seg_30dir/fsl_{FA,V1}.nii.gz -ot linevector\n",
      "fsleyes --layout grid rat/nifti/R17-06/2_plateforme^14112017/524289_DTI_EPI_seg_30dir/fsl_{FA,V1}.nii.gz -ot linevector\n",
      "fsleyes --layout grid rat/nifti/R17-06/2_plateforme^14112017/589825_DTI_EPI_seg_30dir/fsl_{FA,V1}.nii.gz -ot linevector\n",
      "fsleyes --layout grid rat/nifti/R17-06/2_plateforme^14112017/655361_DTI_EPI_seg_30dir/fsl_{FA,V1}.nii.gz -ot linevector\n",
      "fsleyes --layout grid rat/nifti/R17-06/2_plateforme^14112017/720897_DTI_EPI_seg_30dir/fsl_{FA,V1}.nii.gz -ot linevector\n",
      "fsleyes --layout grid rat/nifti/R17-06/2_plateforme^14112017/786433_DTI_EPI_seg_30dir/fsl_{FA,V1}.nii.gz -ot linevector\n",
      "fsleyes --layout grid rat/nifti/R17-06/2_plateforme^14112017/851969_DTI_EPI_seg_30dir/fsl_{FA,V1}.nii.gz -ot linevector\n",
      "fsleyes --layout grid saimiri/nifti/20170117-Saimiri-07011/1_20170117-Saimiri-07011/458753_DTI_60dirs_new/fsl_{FA,V1}.nii.gz -ot linevector\n"
     ]
    }
   ],
   "source": [
    "for name, series in bvecs.items():\n",
    "    for series_number, series_bvecs in series.items():\n",
    "        nifti_directory = glob.glob(\n",
    "            os.path.join(name, \"nifti\", \"*\", \"*\", \"{}*\".format(\n",
    "                2**16 * series_number + 1)))[0]\n",
    "        print \"fsleyes --layout grid {}/fsl_{{FA,V1}}.nii.gz -ot linevector\".format(nifti_directory)"
   ]
  },
  {
   "cell_type": "markdown",
   "metadata": {},
   "source": [
    "### MRtrix\n",
    "\n",
    "The [MRtrix gradient file](http://mrtrix.readthedocs.io/en/latest/concepts/dw_scheme.html#mrtrix-format) has conflicting informations about the coordinate system it uses: it mentions both \"scanner coordinates\" and \"as DICOM\". However, when [loading NIfTI files](https://github.com/MRtrix3/mrtrix3/blob/master/core/file/nifti2_utils.cpp#L158-L203), only the `sform` or `qform` is used to establish the [MRtrix image transform](https://github.com/MRtrix3/mrtrix3/blob/master/core/file/nifti2_utils.cpp#L158-L203). Diffusion data from NIfTI is [loaded](https://github.com/MRtrix3/mrtrix3/blob/master/src/dwi/gradient.cpp#L98-L152) by transform the `bvec` data to the RAS subject coordinate system."
   ]
  },
  {
   "cell_type": "code",
   "execution_count": 19,
   "metadata": {
    "code_folding": []
   },
   "outputs": [
    {
     "ename": "KeyError",
     "evalue": "'MRDiffusionSequence'",
     "output_type": "error",
     "traceback": [
      "\u001b[0;31m---------------------------------------------------------------------------\u001b[0m",
      "\u001b[0;31mKeyError\u001b[0m                                  Traceback (most recent call last)",
      "\u001b[0;32m<ipython-input-19-45bee352ed73>\u001b[0m in \u001b[0;36m<module>\u001b[0;34m()\u001b[0m\n\u001b[1;32m      3\u001b[0m         \u001b[0mldh_to_rvh\u001b[0m\u001b[0;34m,\u001b[0m\u001b[0;34m\u001b[0m\u001b[0m\n\u001b[1;32m      4\u001b[0m         x[\"DiffusionGradientDirectionSequence\"][0][\"DiffusionGradientOrientation\"]) \n\u001b[0;32m----> 5\u001b[0;31m     for x in meta_data[\"MRDiffusionSequence\"]]\n\u001b[0m\u001b[1;32m      6\u001b[0m mrtrix_scheme = numpy.hstack((\n\u001b[1;32m      7\u001b[0m     orientation_mrtrix, [x[\"DiffusionBValue\"] for x in meta_data[\"MRDiffusionSequence\"]]))\n",
      "\u001b[0;31mKeyError\u001b[0m: 'MRDiffusionSequence'"
     ]
    }
   ],
   "source": [
    "orientation_mrtrix = [\n",
    "    numpy.dot(\n",
    "        ldh_to_rvh, \n",
    "        x[\"DiffusionGradientDirectionSequence\"][0][\"DiffusionGradientOrientation\"]) \n",
    "    for x in meta_data[\"MRDiffusionSequence\"]]\n",
    "mrtrix_scheme = numpy.hstack((\n",
    "    orientation_mrtrix, [x[\"DiffusionBValue\"] for x in meta_data[\"MRDiffusionSequence\"]]))\n",
    "with BytesIO() as fd:\n",
    "    numpy.savetxt(fd, mrtrix_scheme)\n",
    "    print(fd.getvalue())"
   ]
  },
  {
   "cell_type": "markdown",
   "metadata": {},
   "source": [
    "Correctness can be checked with `dwi2tensor`:\n",
    "```shell\n",
    "dwi2tensor -grad mrtrix.scheme -mask brain_mask.nii.gz dwi.nii.gz mrtrix_DT.nii.gz\n",
    "tensor2metric -fa mrtrix_FA.nii.gz mrtrix_DT.nii.gz\n",
    "tensor2metric -vector mrtrix_V1.nii.gz -num 1 mrtrix_DT.nii.gz\n",
    "mrview mrtrix_FA.nii.gz -fixel.load mrtrix_V1.nii.gz -mode 2\n",
    "```\n",
    "\n",
    "### Camino"
   ]
  }
 ],
 "metadata": {
  "kernelspec": {
   "display_name": "Python 2",
   "language": "python",
   "name": "python2"
  },
  "language_info": {
   "codemirror_mode": {
    "name": "ipython",
    "version": 2
   },
   "file_extension": ".py",
   "mimetype": "text/x-python",
   "name": "python",
   "nbconvert_exporter": "python",
   "pygments_lexer": "ipython2",
   "version": "2.7.13"
  },
  "varInspector": {
   "cols": {
    "lenName": 16,
    "lenType": 16,
    "lenVar": 40
   },
   "kernels_config": {
    "python": {
     "delete_cmd_postfix": "",
     "delete_cmd_prefix": "del ",
     "library": "var_list.py",
     "varRefreshCmd": "print(var_dic_list())"
    },
    "r": {
     "delete_cmd_postfix": ") ",
     "delete_cmd_prefix": "rm(",
     "library": "var_list.r",
     "varRefreshCmd": "cat(var_dic_list()) "
    }
   },
   "position": {
    "height": "362px",
    "left": "869px",
    "right": "44px",
    "top": "120px",
    "width": "326px"
   },
   "types_to_exclude": [
    "module",
    "function",
    "builtin_function_or_method",
    "instance",
    "_Feature"
   ],
   "window_display": false
  }
 },
 "nbformat": 4,
 "nbformat_minor": 2
}
