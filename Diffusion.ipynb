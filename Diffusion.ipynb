{
 "cells": [
  {
   "cell_type": "markdown",
   "metadata": {
    "slideshow": {
     "slide_type": "slide"
    }
   },
   "source": [
    "# Diffusion gradients in Bruker data sets\n",
    "## or: How I learned to stop worying and love coordinate systems\n",
    "\n",
    "**WARNING** This is a work in progress. The informations should be completed with\n",
    "* Data sets with oblique slices from Paravision 6\n",
    "* Check that the RPF to RPH conversion is valid in other data sets\n",
    "* Data sets from Paravision 5\n",
    "\n",
    "The official documentation from Bruker (Operating Manual of Paravision 6.0.1 and *ParaVision Parameters*) are lacking details to understand which coordinate system (gradient, subject, magnet or image) is used when manipulating vectors and matrices. This is especially difficult in DWI acquisitions, where the direction of the diffusion gradient is of the utmost importance in DEC (directionally-encoded color) images and tractography. The documentation is even self-contradicting for some fields: `ACQ_grad_matrix` is described as the transformation from gradient coordinates to subject coordinates in the Operating Manual (section 3.2.6.10.1) and from the gradient coordinates to patient-indenpendent coordinates in *ParaVision Parameters* (page D-2-36).\n",
    "\n",
    "Based on a diffusion data set provided by @MathieuSantin (readout gradient from head to tail, phase on the left-right axis with undefined direction, and slice on the ventro-dorsal axis also with undefined direction), we try to understand how to convert between different coordinate systems and how to express the directions of the diffusion gradient in these systems. In addition to core Python modules, [Dicomifier](https://github.com/lamyj/dicomifier/) and [NumPy](http://www.numpy.org/) are required.\n",
    "\n",
    "The following anatomical orientations are used in this document:\n",
    "* *L*, *R*: left and right of the subject\n",
    "* *D*, *V*: dorsal (anterior or back) and ventral (posterior or front) sides of the subject\n",
    "* *F*, *H*: foot (inferior or caudal) and head (superior or rostral) extremities of the subject"
   ]
  },
  {
   "cell_type": "code",
   "execution_count": 1,
   "metadata": {},
   "outputs": [
    {
     "name": "stderr",
     "output_type": "stream",
     "text": [
      "/Users/julien/src/dicomifier/master/src/python/dicomifier/bruker_to_dicom/image.py:13: RuntimeWarning: to-Python converter for std::__1::vector<int, std::__1::allocator<int> > already registered; second conversion method ignored.\n",
      "  import odil\n"
     ]
    }
   ],
   "source": [
    "import os\n",
    "import sys\n",
    "\n",
    "import dicomifier\n",
    "import numpy"
   ]
  },
  {
   "cell_type": "markdown",
   "metadata": {},
   "source": [
    "We start by loading the main meta-data files, `acqp`, `method` and `visu_pars`, of the diffusion series."
   ]
  },
  {
   "cell_type": "code",
   "execution_count": 2,
   "metadata": {},
   "outputs": [],
   "source": [
    "bruker_series = \"bruker/7\"\n",
    "method = dicomifier.bruker.Dataset()\n",
    "method.load(os.path.join(bruker_series, \"method\"))\n",
    "\n",
    "acqp = dicomifier.bruker.Dataset()\n",
    "acqp.load(os.path.join(bruker_series, \"acqp\"))\n",
    "\n",
    "visu_pars = dicomifier.bruker.Dataset()\n",
    "visu_pars.load(os.path.join(bruker_series, \"pdata\", \"1\", \"visu_pars\"))"
   ]
  },
  {
   "cell_type": "markdown",
   "metadata": {},
   "source": [
    "We then define a helper function to fetch n-dimensional numeric arrays from Bruker data sets."
   ]
  },
  {
   "cell_type": "code",
   "execution_count": 3,
   "metadata": {},
   "outputs": [],
   "source": [
    "def get_field_data(field, shape=None):\n",
    "    return numpy.reshape(\n",
    "        [field.get_float(x) for x in range(numpy.cumprod(field.shape)[-1])], \n",
    "        field.shape)"
   ]
  },
  {
   "cell_type": "markdown",
   "metadata": {},
   "source": [
    "## Coordinate systems\n",
    "\n",
    "According to the Operating Manual (section 3.2.6.10.1), the gradient coordinate system has a (*readout*, *phase*, *slice*) basis, and the transformation matrix from this coordinate system to the subject coordinate system (i.e. the coordinates of the gradient basis in the subject basis) is stored in `ACQ_grad_matrix`. The equation in the aforementioned section uses a $v\\cdot M$ formalism, which points to the use of row-vectors, and ParaVision Parameters (pages D-2-36 and D-2-65) mentions matrices stored in the row-major order. The subject coordinate system is described by Bruker (Operating Manual, sections 1.3.6.1, 1.3.6.2, and 3.2.6.10.1) to be (*L* &rarr; *R*, *V* &rarr; *D*, *F* -> *H*); note that this is a [left-handed](https://en.wikipedia.org/wiki/Right-hand_rule) coordinate system."
   ]
  },
  {
   "cell_type": "code",
   "execution_count": 4,
   "metadata": {},
   "outputs": [
    {
     "name": "stdout",
     "output_type": "stream",
     "text": [
      "In subject coordinates,\n",
      "   read: [ 0.  0.  1.]\n",
      "  phase: [ 1.  0.  0.]\n",
      "  slice: [ 0.  1.  0.]\n"
     ]
    }
   ],
   "source": [
    "# WARNING: ACQ_grad_matrix is an array of matrices\n",
    "ACQ_grad_matrix = get_field_data(acqp.get_field(\"ACQ_grad_matrix\"))[0]\n",
    "print(\n",
    "    \"In subject coordinates,\\n\"\n",
    "    \"   read: {}\\n\"\n",
    "    \"  phase: {}\\n\"\n",
    "    \"  slice: {}\".format(\n",
    "        ACQ_grad_matrix[0], ACQ_grad_matrix[1], ACQ_grad_matrix[2]))"
   ]
  },
  {
   "cell_type": "markdown",
   "metadata": {},
   "source": [
    "With the exception of an inverted readout gradient (which should be $(0, 0, -1)$ to match the head-to-tail direction) and a possible inversion of the other axes, it matches the original description. This *F*-*H* inversion will appear in further expressions, and indicates that `ACQ_grad_matrix` converts to the *RDF* subject coordinate system, and not the the *RDH* as written by Bruker. In order to increase readability, we define this transformation matrix (which is its own inverse)."
   ]
  },
  {
   "cell_type": "code",
   "execution_count": 5,
   "metadata": {},
   "outputs": [],
   "source": [
    "rdf_to_rdh = numpy.asarray([\n",
    "    [ 1, 0,  0], \n",
    "    [ 0, 1,  0], \n",
    "    [ 0, 0, -1]])"
   ]
  },
  {
   "cell_type": "markdown",
   "metadata": {},
   "source": [
    "The position matrices, converting from the subject RDF coordinate system to the magnet (or world) coordinate system, are described in ParaVision Parameters (page D-2-33)."
   ]
  },
  {
   "cell_type": "code",
   "execution_count": 6,
   "metadata": {},
   "outputs": [],
   "source": [
    "position_matrix = {\n",
    "    \"Feet_Supine\": numpy.asarray([[ 1, 0, 0], [0,  1, 0], [0, 0,  1]]),\n",
    "    \"Head_Supine\": numpy.asarray([[-1, 0, 0], [0,  1, 0], [0, 0, -1]]),\n",
    "    \"Feet_Prone\":  numpy.asarray([[-1, 0, 0], [0, -1, 0], [0, 0,  1]]),\n",
    "    # ...\n",
    "}\n",
    "ACQ_patient_pos = position_matrix[acqp.get_field(\"ACQ_patient_pos\").get_string(0)]"
   ]
  },
  {
   "cell_type": "markdown",
   "metadata": {},
   "source": [
    "Since `Feet_Supine` corresponds to an identity position matrix in the RDF subject coordinates, magnet axes are (when facing the tunnel):\n",
    "* Left &rarr; Right\n",
    "* Up &rarr; Down\n",
    "* Front &rarr; Back\n",
    "\n",
    "The last coordinate system is the image one where the axes are those of the voxel block. The transformation matrix from the subject coordinate system to the image coordinate system is stored in `VisuCoreOrientation`. It transforms from the *LDH* system in Paravision 6 and from the *RVH* system in Paravision 5 (Paravision Parameters, pages D-2-64 and D-2-65)."
   ]
  },
  {
   "cell_type": "code",
   "execution_count": 7,
   "metadata": {},
   "outputs": [
    {
     "name": "stdout",
     "output_type": "stream",
     "text": [
      "In image coordinates,\n",
      "   R->L: [ 1.  0.  0.]\n",
      "   V->D: [ 0.  0. -1.]\n",
      "   F->H: [ 0.  1.  0.]\n"
     ]
    }
   ],
   "source": [
    "VisuCoreOrientation = get_field_data(visu_pars.get_field(\"VisuCoreOrientation\"))\n",
    "VisuCoreOrientation = VisuCoreOrientation.reshape(3,3)\n",
    "print(\n",
    "    \"In image coordinates,\\n\"\n",
    "    \"   R->L: {}\\n\"\n",
    "    \"   V->D: {}\\n\"\n",
    "    \"   F->H: {}\".format(\n",
    "        VisuCoreOrientation[0], VisuCoreOrientation[1], VisuCoreOrientation[2]))"
   ]
  },
  {
   "cell_type": "markdown",
   "metadata": {},
   "source": [
    "These axes can be checked by displaying the converted NIfTI image in FSLeyes or ITK-SNAP. Note that since the subject was positioned as head-first prone but but registered in Paravision as head-first supine, some axes might be flipped.\n",
    "\n",
    "## Diffusion gradient\n",
    "\n",
    "The directions of the diffusion gradient are stored in the gradient coordinate system in `PVM_DwDir`, unless `PVM_DwDirectScale` is set to `Yes`; in that case, they are stored in the \"x,y,z-coordinate system\" (Operating Manual, section 1.9.1.2). This latter system is used to refer to the magnet coordinate system. They are also stored in the subject coordinate system in `VisuAcqDiffusionBMatrix` (ParaVision Parameters, page D-2-72). However, this field does not directly store the diffusion gradient directions, but the [b-matrix](http://doi.org/10.1006/jmrb.1994.1037). In this formalism, the diffusion gradient is colinear to the eigenvector associated with the eigenvalue having the largest absolute value of the b-matrix (**warning** need to find a reference for this). Moreover, `VisuAcqDiffusionBMatrix` also include the volumes acquired without the diffusion gradient; in the Saimiri data set, these volumes are at the beginning of the acquisitions, and their count is stored in `PVM_DwAoImages`.\n"
   ]
  },
  {
   "cell_type": "code",
   "execution_count": 8,
   "metadata": {},
   "outputs": [],
   "source": [
    "PVM_DwDir = get_field_data(method.get_field(\"PVM_DwDir\"))\n",
    "\n",
    "PVM_DwAoImages = method.get_field(\"PVM_DwAoImages\").get_int(0)\n",
    "\n",
    "VisuAcqDiffusionBMatrix = get_field_data(\n",
    "    visu_pars.get_field(\"VisuAcqDiffusionBMatrix\"))\n",
    "VisuAcqDiffusionBMatrix = numpy.reshape(VisuAcqDiffusionBMatrix, (-1, 3, 3))"
   ]
  },
  {
   "cell_type": "markdown",
   "metadata": {},
   "source": [
    "To check the colinearity of `PVM_DwDir` transformed to the subject coordinate system and the first eigenvector of `VisuAcqDiffusionBMatrix`, we use the absolute value of the scalar product. The diffusion directions in the gradient coordinate system are transformed in the RDF coordinate system using `ACQ_grad_matrix`, and then to the RDH coordinate system used by `VisuAcqDiffusionBMatrix`."
   ]
  },
  {
   "cell_type": "code",
   "execution_count": 9,
   "metadata": {},
   "outputs": [
    {
     "name": "stdout",
     "output_type": "stream",
     "text": [
      "Absolute value of dot-product between transformed PVM_DwDir and VisuAcqDiffusionBMatrix: 0.998381 - 1.0\n"
     ]
    }
   ],
   "source": [
    "def get_orientation_and_b_value(b_matrix):\n",
    "    eigenvalues, eigenvectors = numpy.linalg.eigh(b_matrix)\n",
    "    eigenvalues = numpy.abs(eigenvalues)\n",
    "    return eigenvectors[:,numpy.argmax(eigenvalues)], eigenvalues.max()\n",
    "\n",
    "directions_subject = [\n",
    "    get_orientation_and_b_value(x)[0]\n",
    "    for x in VisuAcqDiffusionBMatrix[PVM_DwAoImages:]]\n",
    "\n",
    "transform = numpy.dot(ACQ_grad_matrix, rdf_to_rdh)\n",
    "\n",
    "difference = [\n",
    "    numpy.abs(numpy.dot(numpy.dot(x, transform), y))\n",
    "    for x, y in zip(PVM_DwDir, directions_subject)]\n",
    "difference = numpy.round(difference, 6)\n",
    "print(\n",
    "    \"Absolute value of dot-product \"\n",
    "    \"between transformed PVM_DwDir and VisuAcqDiffusionBMatrix: {} - {}\".format(\n",
    "        min(difference), max(difference)))"
   ]
  },
  {
   "cell_type": "markdown",
   "metadata": {},
   "source": [
    "The content of `VisuAcqDiffusionBMatrix` is also stored in the undocumented `PVM_DwBMatPat`. "
   ]
  },
  {
   "cell_type": "code",
   "execution_count": 10,
   "metadata": {},
   "outputs": [
    {
     "name": "stdout",
     "output_type": "stream",
     "text": [
      "Maximum difference between VisuAcqDiffusionBMatrix and PVM_DwBMatPat: 0.0\n"
     ]
    }
   ],
   "source": [
    "PVM_DwBMatPat = get_field_data(method.get_field(\"PVM_DwBMatPat\"))\n",
    "print(\n",
    "    \"Maximum difference between \"\n",
    "    \"VisuAcqDiffusionBMatrix and PVM_DwBMatPat: {}\".format(\n",
    "        numpy.abs(PVM_DwBMatPat-VisuAcqDiffusionBMatrix).max()))"
   ]
  },
  {
   "cell_type": "markdown",
   "metadata": {},
   "source": [
    "Two other undocumented fields store the b-matrices in the magnet and image coordinate systems, `PVM_DwBMatMag` and `PVM_DwBMatImag`."
   ]
  },
  {
   "cell_type": "code",
   "execution_count": 11,
   "metadata": {},
   "outputs": [
    {
     "name": "stdout",
     "output_type": "stream",
     "text": [
      "Absolute value of dot-product between transformed PVM_DwDir and PVM_DwBMatMag: 0.998381 - 1.0\n"
     ]
    }
   ],
   "source": [
    "PVM_DwBMatMag = get_field_data(method.get_field(\"PVM_DwBMatMag\"))\n",
    "directions_magnet = [\n",
    "    get_orientation_and_b_value(x)[0]\n",
    "    for x in PVM_DwBMatMag[PVM_DwAoImages:]]\n",
    "# The transform is also stored in PVM_SliceGeo\n",
    "transform = numpy.dot(ACQ_grad_matrix, ACQ_patient_pos)\n",
    "difference = [\n",
    "    numpy.abs(numpy.dot(numpy.dot(x, transform), y))\n",
    "    for x, y in zip(PVM_DwDir, directions_magnet)]\n",
    "difference = numpy.round(difference, 6)\n",
    "print(\n",
    "    \"Absolute value of dot-product \"\n",
    "    \"between transformed PVM_DwDir and PVM_DwBMatMag: {} - {}\".format(\n",
    "        min(difference), max(difference)))"
   ]
  },
  {
   "cell_type": "code",
   "execution_count": 12,
   "metadata": {},
   "outputs": [
    {
     "name": "stdout",
     "output_type": "stream",
     "text": [
      "Absolute value of dot-product between transformed PVM_DwDir and PVM_DwBMatImag: 0.998 - 1.0\n"
     ]
    }
   ],
   "source": [
    "PVM_DwBMatImag = get_field_data(method.get_field(\"PVM_DwBMatImag\"))\n",
    "directions_image = [\n",
    "    get_orientation_and_b_value(x)[0]\n",
    "    for x in PVM_DwBMatImag[PVM_DwAoImages:]]\n",
    "\n",
    "rdf_to_ldh = numpy.asarray([\n",
    "    [-1, 0,  0], \n",
    "    [ 0, 1,  0], \n",
    "    [ 0, 0, -1]])\n",
    "transform = numpy.dot(\n",
    "    numpy.dot(ACQ_grad_matrix, rdf_to_ldh),\n",
    "    VisuCoreOrientation)\n",
    "\n",
    "difference = [\n",
    "    numpy.abs(numpy.dot(numpy.dot(x, transform), y))\n",
    "    for x, y in zip(PVM_DwDir, directions_image)]\n",
    "difference = numpy.round(difference, 3)\n",
    "print(\n",
    "    \"Absolute value of dot-product \"\n",
    "    \"between transformed PVM_DwDir and PVM_DwBMatImag: {} - {}\".format(\n",
    "        min(difference), max(difference)))"
   ]
  },
  {
   "cell_type": "markdown",
   "metadata": {},
   "source": [
    "## Interoperability with other standards and diffusion softwares\n",
    "\n",
    "In [DICOM](http://dicom.nema.org/medical/dicom/current/output/chtml/part03/sect_C.8.13.5.9.html), the direction of the diffusion gradient and the b-matrix are explicitely specified in the [LDH](http://dicom.nema.org/medical/dicom/current/output/chtml/part03/sect_C.7.6.2.html#sect_C.7.6.2.1.1) subject coordinate system. "
   ]
  },
  {
   "cell_type": "markdown",
   "metadata": {},
   "source": [
    "We can now create the DICOM meta-data containing the diffusion information."
   ]
  },
  {
   "cell_type": "code",
   "execution_count": 13,
   "metadata": {},
   "outputs": [],
   "source": [
    "rdh_to_ldh = numpy.asarray([\n",
    "    [-1, 0, 0],\n",
    "    [ 0, 1, 0],\n",
    "    [ 0, 0, 1]])\n",
    "meta_data = {\n",
    "    \"MRDiffusionSequence\": []}\n",
    "for matrix in VisuAcqDiffusionBMatrix:\n",
    "    orientation, b_value = get_orientation_and_b_value(matrix)\n",
    "    meta_data[\"MRDiffusionSequence\"].append({\n",
    "        \"DiffusionBValue\": [b_value],\n",
    "        \"DiffusionGradientDirectionSequence\": [{ \n",
    "            \"DiffusionGradientOrientation\": numpy.dot(orientation, rdh_to_ldh) }],\n",
    "    })"
   ]
  },
  {
   "cell_type": "markdown",
   "metadata": {},
   "source": [
    "### FSL: `bvecs` and `bvals` files\n",
    "\n",
    "FSL uses a [radiological voxel convention](https://fsl.fmrib.ox.ac.uk/fsl/fslwiki/FDT/FAQ#What_conventions_do_the_bvecs_use.3F). This rather convoluted expression means that the directions are in the image coordinate system if the image-to-subject transformation has a negative determinant. If this determinant is positive, then an additional flip on the x axis must be applied to match the \"old Analyze convention\". As an extra indication that the directions are stored in the image coordinate system and not in the subject coordinate system, both the [Eddy FAQ](https://fsl.fmrib.ox.ac.uk/fsl/fslwiki/eddy/Faq#Will_eddy_rotate_my_bvecs_for_me.3F) and a [practical in the FSL course](http://fsl.fmrib.ox.ac.uk/fslcourse/lectures/practicals/fdt1/index.html) mention rotation of the direction when performing motion correction, i.e. being image dependent. MRtrix also [applies this process](https://github.com/MRtrix3/mrtrix3/blob/master/src/dwi/gradient.cpp#L127-L133) the other way around to convert from the `bvecs` file to their gradient scheme.\n",
    "\n",
    "We first compute the NIfTI orientation matrix from `VisuCoreOrientation`, using the more common column-vector formalism."
   ]
  },
  {
   "cell_type": "code",
   "execution_count": 14,
   "metadata": {},
   "outputs": [],
   "source": [
    "nifti_orientation_matrix = numpy.linalg.inv(VisuCoreOrientation).T\n",
    "ldh_to_rvh = numpy.asarray([\n",
    "    [-1,  0, 0],\n",
    "    [ 0, -1, 0],\n",
    "    [ 0,  0, 1]])\n",
    "nifti_orientation_matrix = numpy.dot(ldh_to_rvh, nifti_orientation_matrix)"
   ]
  },
  {
   "cell_type": "markdown",
   "metadata": {},
   "source": [
    "The `bvecs` and `bvals` are then given by:"
   ]
  },
  {
   "cell_type": "code",
   "execution_count": 15,
   "metadata": {},
   "outputs": [
    {
     "name": "stdout",
     "output_type": "stream",
     "text": [
      "-5.768675629356625478e-01 -5.768675629356625478e-01 -5.768675629356625478e-01 -5.768675629356625478e-01 -5.768675629356625478e-01 -5.768675629356625478e-01 -9.393194955829210768e-02 -7.783056238775881708e-02 -2.631065794850782624e-01 2.051724698866855823e-01 3.253394028687053297e-01 -3.484198060584335344e-01 -6.279201051995858540e-02 2.716175364251311453e-01 5.025201770021500147e-01 3.218936613367740507e-01 -7.636506318667542204e-02 -5.884590213621501142e-01 5.996751087900475952e-01 3.200139459086751570e-01 2.867061299336806646e-01 5.473831400252617829e-01 -7.318592792727741658e-01 6.028294788629695589e-01 -9.833268368430971018e-02 2.610071351222708058e-01 5.532088258674759951e-01 -8.096787077704203917e-01 5.615007321558193043e-01 2.416952450381537054e-01 -8.881409488149426268e-02 5.641019855844126019e-01 7.876663087936293106e-01 8.260385869616144738e-01 3.889764631902154490e-01 1.280285346082182529e-01 4.707572281645845402e-01 7.362738181739388876e-01 7.885873579785047660e-01 8.078382945361947121e-01 4.640521994647334725e-01 1.909254809812645226e-01 4.240177767811295628e-01 7.363545749042440525e-01 -9.277291242182374997e-01 8.754880942423847179e-01 6.679057162143464677e-01 1.644439424054848220e-01 3.327347761840345197e-01 6.228691281129691282e-01 9.196867656789067258e-01 -9.540532559594968598e-01 7.288253912639230947e-01 -5.182904196059126001e-01 -2.335602058692301808e-01 1.240280483954518259e-01 6.454809564920954701e-01 9.162650466871320454e-01 -9.807618972350590214e-01 -7.448534876233436908e-01 4.763667935647149521e-01 -8.868760279713547301e-02 -3.832520721482444159e-01 -8.447583625282771846e-01 -9.891678443395176545e-01 9.138418572896986891e-01\n",
      "5.768675629356627699e-01 5.768675629356627699e-01 5.768675629356627699e-01 5.768675629356627699e-01 5.768675629356627699e-01 5.768675629356627699e-01 1.002468251574038655e-01 -2.513150505534483270e-01 9.091759420135833714e-02 2.473029847711020190e-01 -2.939110582632333268e-01 -1.019601010408331260e-01 -5.684673256884555936e-01 -3.943940704061644209e-01 1.700208252780038287e-01 5.168234566005193154e-01 4.598954727126475239e-01 1.127492672361062737e-01 2.424585853678564995e-01 4.271439792308693306e-01 -6.645474123047776516e-01 -2.121176447601999804e-01 -7.014417115508264633e-02 4.420068800013450261e-01 -7.236643684441532720e-01 -6.282458458862424378e-01 -4.526485576913399922e-01 -8.352902368722635307e-02 5.424163341728142074e-01 7.215110907613447866e-01 8.326071241810841794e-01 -5.164111616856609244e-01 -2.726473239931579418e-01 2.722971023681481362e-01 7.424000284567963126e-01 -8.628212149758712757e-01 -7.281813635426994669e-01 -5.510676467212923813e-01 -2.568639956131926749e-01 3.559280022576740143e-01 7.806732712586229583e-01 9.251397090954252000e-01 -8.038925258622539038e-01 -5.621619437290600318e-01 6.835049400584798651e-02 4.277062465505948596e-01 6.287724229412957611e-01 9.218251474657116473e-01 -9.096496271215236407e-01 -7.630627053553883377e-01 -2.911910628523235456e-01 -9.099641724795277942e-02 6.198091534387845103e-01 -8.480941551532649170e-01 -9.704939695801131361e-01 -9.611582989037094071e-01 -7.474112079586400226e-01 -3.346634040398884791e-01 -1.638624798605154420e-01 -6.622983448385412197e-01 8.492313729548506274e-01 9.904979189263318773e-01 9.184103322995911256e-01 5.299068316628854358e-01 1.323859167802526882e-01 3.815661299305043719e-01\n",
      "5.783144729862279565e-01 5.783144729862279565e-01 5.783144729862279565e-01 5.783144729862279565e-01 5.783144729862279565e-01 5.783144729862279565e-01 9.905187342488982472e-01 9.647710344551821970e-01 -9.604732785956614505e-01 9.469664678983631401e-01 -8.987605703253901401e-01 9.317766773975117989e-01 8.203060788751210808e-01 8.778822421798951892e-01 8.476829541034276438e-01 7.932704365465143015e-01 8.846832943505299474e-01 8.006269936213878946e-01 -7.626293977280591552e-01 -8.456589711170681145e-01 6.900553107233321493e-01 8.095540765121685967e-01 -6.778361089491337088e-01 6.642488520466386381e-01 -6.831109464528921649e-01 -7.329273037225070286e-01 -6.993348827294961767e-01 5.808986937367663916e-01 -6.249011507518646980e-01 -6.488490998948228672e-01 -5.466968385799257923e-01 6.442891136331497792e-01 5.524900204626225220e-01 4.934719251308726795e-01 5.454718222157579621e-01 -4.890278574004079948e-01 -4.981360596462494073e-01 -3.927153083451503379e-01 -5.587046326943309049e-01 -4.698005396864862737e-01 -4.185747241703725585e-01 -3.281218971158513797e-01 4.170919944525356415e-01 3.765048326918998267e-01 -3.669426141052828383e-01 2.249176816113824806e-01 3.981798518216778104e-01 3.509937140547683132e-01 -2.486465857304979155e-01 -1.725379869463693483e-01 -2.634084621837461948e-01 2.854856158217418116e-01 -2.909470095438123627e-01 1.100515558254252513e-01 5.992566430968837565e-02 2.465598662794546980e-01 1.572603606248451635e-01 2.201335281502164176e-01 -1.060904737752151883e-01 -8.095791746006275602e-02 2.277734689951657066e-01 1.051112825185890332e-01 -9.818508399666181496e-02 7.471317618430295404e-02 6.341091990315034232e-02 -1.389256936465367298e-01\n",
      "\n",
      "1.769846906816620091e+01 1.769846906816620091e+01 1.769846906816620091e+01 1.769846906816620091e+01 1.769846906816620091e+01 1.769846906816620091e+01 1.006440833614461326e+03 1.004720841735005479e+03 1.004069099770795333e+03 1.000244677726177315e+03 1.000232203914008892e+03 1.002673721067806355e+03 1.004078108145067290e+03 1.000226839628188941e+03 1.000218997215091008e+03 1.000204973871127095e+03 1.004704959074709905e+03 1.000559147128784048e+03 1.000197044633452720e+03 1.000218491953707826e+03 1.000178309504706817e+03 1.000209174025512766e+03 1.004518594013401071e+03 1.000171626014005597e+03 1.003149249264945524e+03 1.000189376680589135e+03 1.000180673684040016e+03 1.004471769409547960e+03 1.000161433235671893e+03 1.000167629831784666e+03 1.004139779762933813e+03 1.000166460174715780e+03 1.000142725844346842e+03 1.000127498330107755e+03 1.000140913833500917e+03 1.000126322331314100e+03 1.000128691673481740e+03 1.000101419507103856e+03 1.000144313849556170e+03 1.000121387696852821e+03 1.000108126754799287e+03 1.000084787563316695e+03 1.000107727195737766e+03 1.000097272018263880e+03 1.004353361729322614e+03 1.000058085543630341e+03 1.000102852544239113e+03 1.000090703890732925e+03 1.000064194636708066e+03 1.000044574907636388e+03 1.000068024405042024e+03 1.003887250337718115e+03 1.000075158972557119e+03 1.000995913884771653e+03 1.003586117336763209e+03 1.000063665624143027e+03 1.000040585157502392e+03 1.000056836875789827e+03 1.001772714370325502e+03 1.004438683775272580e+03 1.000058802654599276e+03 1.005921852050734628e+03 1.003210494145287043e+03 1.004481913535017384e+03 1.003923994477330439e+03 1.000035877713891750e+03\n",
      "\n"
     ]
    }
   ],
   "source": [
    "bvecs = []\n",
    "bvals = []\n",
    "for entry in meta_data[\"MRDiffusionSequence\"]:\n",
    "    # In LDH\n",
    "    orientation = entry[\"DiffusionGradientDirectionSequence\"][0][\"DiffusionGradientOrientation\"]\n",
    "    # To RVH\n",
    "    orientation = numpy.dot(ldh_to_rvh, orientation)\n",
    "    # To image\n",
    "    orientation = numpy.dot(nifti_orientation_matrix, orientation)\n",
    "    # To Analyze convention, if required\n",
    "    if numpy.linalg.det(nifti_orientation_matrix) > 0:\n",
    "        orientation[0] *= -1\n",
    "    \n",
    "    bvecs.append(orientation)\n",
    "    bvals.append(entry[\"DiffusionBValue\"][0])\n",
    "\n",
    "from io import BytesIO\n",
    "with BytesIO() as fd:\n",
    "    numpy.savetxt(fd, numpy.transpose(bvecs))\n",
    "    print(fd.getvalue())\n",
    "with BytesIO() as fd:\n",
    "    numpy.savetxt(fd, numpy.reshape(bvals, (1, -1)))\n",
    "    print(fd.getvalue())"
   ]
  },
  {
   "cell_type": "markdown",
   "metadata": {},
   "source": [
    "In order to check the correctness of the `bvecs` and `bvals`, we use FSL's own `dtifit`:\n",
    "\n",
    "```shell\n",
    "bet dwi.nii.gz brain -m\n",
    "dtifit -k dwi.nii.gz -r bvec -b bval -o fsl -m bet_mask.nii.gz\n",
    "fsleyes --layout grid fsl_FA.nii.gz fsl_V1.nii.gz -ot linevector\n",
    "```\n",
    "\n",
    "### MRtrix\n",
    "\n",
    "The [MRtrix gradient file](http://mrtrix.readthedocs.io/en/latest/concepts/dw_scheme.html#mrtrix-format) has conflicting informations about the coordinate system it uses: it mentions both \"scanner coordinates\" and \"as DICOM\". However, when [loading NIfTI files](https://github.com/MRtrix3/mrtrix3/blob/master/core/file/nifti2_utils.cpp#L158-L203), only the `sform` or `qform` is used to establish the [MRtrix image transform](https://github.com/MRtrix3/mrtrix3/blob/master/core/file/nifti2_utils.cpp#L158-L203). Diffusion data from NIfTI is [loaded](https://github.com/MRtrix3/mrtrix3/blob/master/src/dwi/gradient.cpp#L98-L152) by transform the `bvec` data to the RAS subject coordinate system."
   ]
  },
  {
   "cell_type": "code",
   "execution_count": 16,
   "metadata": {},
   "outputs": [
    {
     "name": "stdout",
     "output_type": "stream",
     "text": [
      "-5.768675629356625478e-01 5.783144729862279565e-01 5.768675629356627699e-01 1.769846906816620091e+01\n",
      "-5.768675629356625478e-01 5.783144729862279565e-01 5.768675629356627699e-01 1.769846906816620091e+01\n",
      "-5.768675629356625478e-01 5.783144729862279565e-01 5.768675629356627699e-01 1.769846906816620091e+01\n",
      "-5.768675629356625478e-01 5.783144729862279565e-01 5.768675629356627699e-01 1.769846906816620091e+01\n",
      "-5.768675629356625478e-01 5.783144729862279565e-01 5.768675629356627699e-01 1.769846906816620091e+01\n",
      "-5.768675629356625478e-01 5.783144729862279565e-01 5.768675629356627699e-01 1.769846906816620091e+01\n",
      "-9.393194955829210768e-02 9.905187342488982472e-01 1.002468251574038655e-01 1.006440833614461326e+03\n",
      "-7.783056238775881708e-02 9.647710344551821970e-01 -2.513150505534483270e-01 1.004720841735005479e+03\n",
      "-2.631065794850782624e-01 -9.604732785956614505e-01 9.091759420135833714e-02 1.004069099770795333e+03\n",
      "2.051724698866855823e-01 9.469664678983631401e-01 2.473029847711020190e-01 1.000244677726177315e+03\n",
      "3.253394028687053297e-01 -8.987605703253901401e-01 -2.939110582632333268e-01 1.000232203914008892e+03\n",
      "-3.484198060584335344e-01 9.317766773975117989e-01 -1.019601010408331260e-01 1.002673721067806355e+03\n",
      "-6.279201051995858540e-02 8.203060788751210808e-01 -5.684673256884555936e-01 1.004078108145067290e+03\n",
      "2.716175364251311453e-01 8.778822421798951892e-01 -3.943940704061644209e-01 1.000226839628188941e+03\n",
      "5.025201770021500147e-01 8.476829541034276438e-01 1.700208252780038287e-01 1.000218997215091008e+03\n",
      "3.218936613367740507e-01 7.932704365465143015e-01 5.168234566005193154e-01 1.000204973871127095e+03\n",
      "-7.636506318667542204e-02 8.846832943505299474e-01 4.598954727126475239e-01 1.004704959074709905e+03\n",
      "-5.884590213621501142e-01 8.006269936213878946e-01 1.127492672361062737e-01 1.000559147128784048e+03\n",
      "5.996751087900475952e-01 -7.626293977280591552e-01 2.424585853678564995e-01 1.000197044633452720e+03\n",
      "3.200139459086751570e-01 -8.456589711170681145e-01 4.271439792308693306e-01 1.000218491953707826e+03\n",
      "2.867061299336806646e-01 6.900553107233321493e-01 -6.645474123047776516e-01 1.000178309504706817e+03\n",
      "5.473831400252617829e-01 8.095540765121685967e-01 -2.121176447601999804e-01 1.000209174025512766e+03\n",
      "-7.318592792727741658e-01 -6.778361089491337088e-01 -7.014417115508264633e-02 1.004518594013401071e+03\n",
      "6.028294788629695589e-01 6.642488520466386381e-01 4.420068800013450261e-01 1.000171626014005597e+03\n",
      "-9.833268368430971018e-02 -6.831109464528921649e-01 -7.236643684441532720e-01 1.003149249264945524e+03\n",
      "2.610071351222708058e-01 -7.329273037225070286e-01 -6.282458458862424378e-01 1.000189376680589135e+03\n",
      "5.532088258674759951e-01 -6.993348827294961767e-01 -4.526485576913399922e-01 1.000180673684040016e+03\n",
      "-8.096787077704203917e-01 5.808986937367663916e-01 -8.352902368722635307e-02 1.004471769409547960e+03\n",
      "5.615007321558193043e-01 -6.249011507518646980e-01 5.424163341728142074e-01 1.000161433235671893e+03\n",
      "2.416952450381537054e-01 -6.488490998948228672e-01 7.215110907613447866e-01 1.000167629831784666e+03\n",
      "-8.881409488149426268e-02 -5.466968385799257923e-01 8.326071241810841794e-01 1.004139779762933813e+03\n",
      "5.641019855844126019e-01 6.442891136331497792e-01 -5.164111616856609244e-01 1.000166460174715780e+03\n",
      "7.876663087936293106e-01 5.524900204626225220e-01 -2.726473239931579418e-01 1.000142725844346842e+03\n",
      "8.260385869616144738e-01 4.934719251308726795e-01 2.722971023681481362e-01 1.000127498330107755e+03\n",
      "3.889764631902154490e-01 5.454718222157579621e-01 7.424000284567963126e-01 1.000140913833500917e+03\n",
      "1.280285346082182529e-01 -4.890278574004079948e-01 -8.628212149758712757e-01 1.000126322331314100e+03\n",
      "4.707572281645845402e-01 -4.981360596462494073e-01 -7.281813635426994669e-01 1.000128691673481740e+03\n",
      "7.362738181739388876e-01 -3.927153083451503379e-01 -5.510676467212923813e-01 1.000101419507103856e+03\n",
      "7.885873579785047660e-01 -5.587046326943309049e-01 -2.568639956131926749e-01 1.000144313849556170e+03\n",
      "8.078382945361947121e-01 -4.698005396864862737e-01 3.559280022576740143e-01 1.000121387696852821e+03\n",
      "4.640521994647334725e-01 -4.185747241703725585e-01 7.806732712586229583e-01 1.000108126754799287e+03\n",
      "1.909254809812645226e-01 -3.281218971158513797e-01 9.251397090954252000e-01 1.000084787563316695e+03\n",
      "4.240177767811295628e-01 4.170919944525356415e-01 -8.038925258622539038e-01 1.000107727195737766e+03\n",
      "7.363545749042440525e-01 3.765048326918998267e-01 -5.621619437290600318e-01 1.000097272018263880e+03\n",
      "-9.277291242182374997e-01 -3.669426141052828383e-01 6.835049400584798651e-02 1.004353361729322614e+03\n",
      "8.754880942423847179e-01 2.249176816113824806e-01 4.277062465505948596e-01 1.000058085543630341e+03\n",
      "6.679057162143464677e-01 3.981798518216778104e-01 6.287724229412957611e-01 1.000102852544239113e+03\n",
      "1.644439424054848220e-01 3.509937140547683132e-01 9.218251474657116473e-01 1.000090703890732925e+03\n",
      "3.327347761840345197e-01 -2.486465857304979155e-01 -9.096496271215236407e-01 1.000064194636708066e+03\n",
      "6.228691281129691282e-01 -1.725379869463693483e-01 -7.630627053553883377e-01 1.000044574907636388e+03\n",
      "9.196867656789067258e-01 -2.634084621837461948e-01 -2.911910628523235456e-01 1.000068024405042024e+03\n",
      "-9.540532559594968598e-01 2.854856158217418116e-01 -9.099641724795277942e-02 1.003887250337718115e+03\n",
      "7.288253912639230947e-01 -2.909470095438123627e-01 6.198091534387845103e-01 1.000075158972557119e+03\n",
      "-5.182904196059126001e-01 1.100515558254252513e-01 -8.480941551532649170e-01 1.000995913884771653e+03\n",
      "-2.335602058692301808e-01 5.992566430968837565e-02 -9.704939695801131361e-01 1.003586117336763209e+03\n",
      "1.240280483954518259e-01 2.465598662794546980e-01 -9.611582989037094071e-01 1.000063665624143027e+03\n",
      "6.454809564920954701e-01 1.572603606248451635e-01 -7.474112079586400226e-01 1.000040585157502392e+03\n",
      "9.162650466871320454e-01 2.201335281502164176e-01 -3.346634040398884791e-01 1.000056836875789827e+03\n",
      "-9.807618972350590214e-01 -1.060904737752151883e-01 -1.638624798605154420e-01 1.001772714370325502e+03\n",
      "-7.448534876233436908e-01 -8.095791746006275602e-02 -6.622983448385412197e-01 1.004438683775272580e+03\n",
      "4.763667935647149521e-01 2.277734689951657066e-01 8.492313729548506274e-01 1.000058802654599276e+03\n",
      "-8.868760279713547301e-02 1.051112825185890332e-01 9.904979189263318773e-01 1.005921852050734628e+03\n",
      "-3.832520721482444159e-01 -9.818508399666181496e-02 9.184103322995911256e-01 1.003210494145287043e+03\n",
      "-8.447583625282771846e-01 7.471317618430295404e-02 5.299068316628854358e-01 1.004481913535017384e+03\n",
      "-9.891678443395176545e-01 6.341091990315034232e-02 1.323859167802526882e-01 1.003923994477330439e+03\n",
      "9.138418572896986891e-01 -1.389256936465367298e-01 3.815661299305043719e-01 1.000035877713891750e+03\n",
      "\n"
     ]
    }
   ],
   "source": [
    "orientation_mrtrix = [\n",
    "    numpy.dot(\n",
    "        ldh_to_rvh, \n",
    "        x[\"DiffusionGradientDirectionSequence\"][0][\"DiffusionGradientOrientation\"]) \n",
    "    for x in meta_data[\"MRDiffusionSequence\"]]\n",
    "mrtrix_scheme = numpy.hstack((\n",
    "    orientation_mrtrix, [x[\"DiffusionBValue\"] for x in meta_data[\"MRDiffusionSequence\"]]))\n",
    "with BytesIO() as fd:\n",
    "    numpy.savetxt(fd, mrtrix_scheme)\n",
    "    print(fd.getvalue())"
   ]
  },
  {
   "cell_type": "markdown",
   "metadata": {},
   "source": [
    "Correctness can be checked with `dwi2tensor`:\n",
    "```shell\n",
    "dwi2tensor -grad mrtrix.scheme -mask brain_mask.nii.gz dwi.nii.gz mrtrix_DT.nii.gz\n",
    "tensor2metric -fa mrtrix_FA.nii.gz mrtrix_DT.nii.gz\n",
    "tensor2metric -vector mrtrix_V1.nii.gz -num 1 mrtrix_DT.nii.gz\n",
    "mrview mrtrix_FA.nii.gz -fixel.load mrtrix_V1.nii.gz -mode 2\n",
    "```\n",
    "\n",
    "### Camino"
   ]
  }
 ],
 "metadata": {
  "kernelspec": {
   "display_name": "Python 2",
   "language": "python",
   "name": "python2"
  },
  "language_info": {
   "codemirror_mode": {
    "name": "ipython",
    "version": 2
   },
   "file_extension": ".py",
   "mimetype": "text/x-python",
   "name": "python",
   "nbconvert_exporter": "python",
   "pygments_lexer": "ipython2",
   "version": "2.7.13"
  }
 },
 "nbformat": 4,
 "nbformat_minor": 2
}
